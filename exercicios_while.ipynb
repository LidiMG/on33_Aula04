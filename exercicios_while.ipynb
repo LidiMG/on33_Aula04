{
 "cells": [
  {
   "cell_type": "markdown",
   "metadata": {},
   "source": [
    "### Aula"
   ]
  },
  {
   "cell_type": "code",
   "execution_count": 10,
   "metadata": {},
   "outputs": [
    {
     "name": "stdout",
     "output_type": "stream",
     "text": [
      "Eu enho 0 balas\n",
      "Eu enho 1 balas\n",
      "Eu enho 2 balas\n",
      "Eu enho 3 balas\n",
      "Eu enho 4 balas\n"
     ]
    }
   ],
   "source": [
    "balas = 0\n",
    "\n",
    "while balas < 5:\n",
    "    print(\"Eu enho\", balas, \"balas\")\n",
    "    balas = balas + 1"
   ]
  },
  {
   "cell_type": "code",
   "execution_count": 12,
   "metadata": {},
   "outputs": [
    {
     "name": "stdout",
     "output_type": "stream",
     "text": [
      "O balde ainda não está cheio. Tenho 0 litros de água no balde.\n",
      "O balde ainda não está cheio. Tenho 1 litros de água no balde.\n",
      "O balde ainda não está cheio. Tenho 2 litros de água no balde.\n",
      "O balde ainda não está cheio. Tenho 3 litros de água no balde.\n",
      "O balde ainda não está cheio. Tenho 4 litros de água no balde.\n",
      "O balde está cheio.\n"
     ]
    }
   ],
   "source": [
    "agua_no_balde = 0\n",
    "balde_cheio = 5\n",
    "\n",
    "while agua_no_balde < balde_cheio:\n",
    "    print(\"O balde ainda não está cheio. Tenho\", agua_no_balde, \"litros de água no balde.\")\n",
    "    agua_no_balde += 1\n",
    "\n",
    "print(\"O balde está cheio.\")"
   ]
  },
  {
   "cell_type": "markdown",
   "metadata": {},
   "source": [
    "### Exercício 1: Contagem Regressiva Simples\n",
    "Este exercício pede para criar um contador regressivo de 5 até 1."
   ]
  },
  {
   "cell_type": "code",
   "execution_count": 24,
   "metadata": {},
   "outputs": [
    {
     "name": "stdout",
     "output_type": "stream",
     "text": [
      "5\n",
      "4\n",
      "3\n",
      "2\n",
      "1\n",
      "Fim da contagem\n"
     ]
    }
   ],
   "source": [
    "contador = 5\n",
    "\n",
    "while contador > 0:\n",
    "    print(contador)\n",
    "    contador -= 1\n",
    "\n",
    "print(\"Fim da contagem\")"
   ]
  },
  {
   "cell_type": "markdown",
   "metadata": {},
   "source": [
    "### Exercício 2: Tabuada de Multiplicação\n",
    "Neste exercício, o programa calcula e exibe a tabuada de multiplicação de um número escolhido pelo usuário."
   ]
  },
  {
   "cell_type": "code",
   "execution_count": 17,
   "metadata": {},
   "outputs": [
    {
     "name": "stdout",
     "output_type": "stream",
     "text": [
      "3 x 0 = 0\n",
      "3 x 1 = 3\n",
      "3 x 2 = 6\n",
      "3 x 3 = 9\n",
      "3 x 4 = 12\n",
      "3 x 5 = 15\n",
      "3 x 6 = 18\n",
      "3 x 7 = 21\n",
      "3 x 8 = 24\n",
      "3 x 9 = 27\n",
      "3 x 10 = 30\n"
     ]
    }
   ],
   "source": [
    "num = int(input(\"Digite um número: \"))\n",
    "multiplicador = 0\n",
    "\n",
    "while multiplicador <= 10:\n",
    "    resultado = num * multiplicador\n",
    "    print(num, \"x\", multiplicador, \"=\", resultado)\n",
    "    multiplicador += 1"
   ]
  }
 ],
 "metadata": {
  "kernelspec": {
   "display_name": "Python 3",
   "language": "python",
   "name": "python3"
  },
  "language_info": {
   "codemirror_mode": {
    "name": "ipython",
    "version": 3
   },
   "file_extension": ".py",
   "mimetype": "text/x-python",
   "name": "python",
   "nbconvert_exporter": "python",
   "pygments_lexer": "ipython3",
   "version": "3.12.4"
  }
 },
 "nbformat": 4,
 "nbformat_minor": 2
}
