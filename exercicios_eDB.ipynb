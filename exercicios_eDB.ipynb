{
 "cells": [
  {
   "cell_type": "markdown",
   "metadata": {},
   "source": [
    "### Listas"
   ]
  },
  {
   "cell_type": "code",
   "execution_count": 4,
   "metadata": {},
   "outputs": [
    {
     "name": "stdout",
     "output_type": "stream",
     "text": [
      "maçã\n",
      "banana\n",
      "pão\n",
      "leite\n",
      "queijo\n"
     ]
    }
   ],
   "source": [
    "lista_de_compras = [\"maçã\", \"banana\", \"pão\", \"leite\", \"queijo\"]\n",
    "\n",
    "for item in lista_de_compras:\n",
    "    print(item)"
   ]
  },
  {
   "cell_type": "markdown",
   "metadata": {},
   "source": [
    "### Exercício 3: Trabalhando com Tuplas\n",
    "Objetivo: Criar uma tupla com nomes de cores e imprimir cada cor."
   ]
  },
  {
   "cell_type": "code",
   "execution_count": 5,
   "metadata": {},
   "outputs": [
    {
     "name": "stdout",
     "output_type": "stream",
     "text": [
      "Preto\n",
      "Branco\n",
      "Rosa\n",
      "Azul\n"
     ]
    }
   ],
   "source": [
    "cores = (\"Preto\", \"Branco\", \"Rosa\", \"Azul\")\n",
    "\n",
    "for cor in cores:\n",
    "    print(cor)"
   ]
  },
  {
   "cell_type": "markdown",
   "metadata": {},
   "source": [
    "### Exercício 2: Trabalhando com Dicionários\n",
    "Definindo um dicionário com informações sobre filmes"
   ]
  },
  {
   "cell_type": "code",
   "execution_count": 25,
   "metadata": {},
   "outputs": [
    {
     "name": "stdout",
     "output_type": "stream",
     "text": [
      "O filme 'O Senhor dos Anéis' vale a pena? Pois então... ver pelo menos 1 vez ao ano\n",
      "O filme 'O Poderoso Chefão' vale a pena? Pois então... veja o filme e leia o livro\n",
      "O filme 'Expresso do Horror' vale a pena? Pois então... como assim tu ainda não viu?!?\n",
      "O filme 'Cinderela em Paris (Funny Face)' vale a pena? Pois então... Audrey Hepburn para os dias nublados\n",
      "O filme 'A Múmia' vale a pena? Pois então... Brendan Fraser e Boris Karloff\n"
     ]
    }
   ],
   "source": [
    "filmes = {\n",
    "    \"O Senhor dos Anéis\": \"ver pelo menos 1 vez ao ano\",\n",
    "    \"O Poderoso Chefão\": \"veja o filme e leia o livro\",\n",
    "    \"Expresso do Horror\": \"como assim tu ainda não viu?!?\",\n",
    "    \"Cinderela em Paris (Funny Face)\": \"Audrey Hepburn para os dias nublados\",\n",
    "    \"A Múmia\": \"Brendan Fraser e Boris Karloff\"\n",
    "}\n",
    "\n",
    "for filme, dica in filmes.items():\n",
    "    print(f\"O filme '{filme}' vale a pena? Pois então... {dica}\")"
   ]
  }
 ],
 "metadata": {
  "kernelspec": {
   "display_name": "Python 3",
   "language": "python",
   "name": "python3"
  },
  "language_info": {
   "codemirror_mode": {
    "name": "ipython",
    "version": 3
   },
   "file_extension": ".py",
   "mimetype": "text/x-python",
   "name": "python",
   "nbconvert_exporter": "python",
   "pygments_lexer": "ipython3",
   "version": "3.12.4"
  }
 },
 "nbformat": 4,
 "nbformat_minor": 2
}
